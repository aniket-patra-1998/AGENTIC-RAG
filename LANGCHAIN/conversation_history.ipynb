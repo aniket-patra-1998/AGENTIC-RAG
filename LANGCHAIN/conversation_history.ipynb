{
 "cells": [
  {
   "cell_type": "code",
   "execution_count": null,
   "metadata": {},
   "outputs": [],
   "source": [
    "import os\n",
    "from dotenv import load_dotenv\n",
    "import bs4\n",
    "from langchain_community.llms import Ollama\n",
    "import streamlit as st\n",
    "from langchain_core.prompts import ChatPromptTemplate\n",
    "from langchain_core.output_parsers import StrOutputParser\n",
    "load_dotenv()\n",
    "groq_api_key = os.getenv(\"GROQ_API_KEY\")"
   ]
  },
  {
   "cell_type": "code",
   "execution_count": 4,
   "metadata": {},
   "outputs": [],
   "source": [
    "from langchain_groq import ChatGroq\n",
    "model = ChatGroq(model='Gemma2-9b-It',groq_api_key= groq_api_key)"
   ]
  },
  {
   "cell_type": "code",
   "execution_count": 5,
   "metadata": {},
   "outputs": [
    {
     "data": {
      "text/plain": [
       "AIMessage(content=\"Hello Aniket, \\n\\nIt's nice to meet you! That's great, data science is a fascinating field. \\n\\nWhat kind of data science work do you do? Are you working on any interesting projects right now? \\n\\nI'm eager to learn more about your work.\\n\", additional_kwargs={}, response_metadata={'token_usage': {'completion_tokens': 65, 'prompt_tokens': 21, 'total_tokens': 86, 'completion_time': 0.118181818, 'prompt_time': 0.00019284, 'queue_time': 0.00382567, 'total_time': 0.118374658}, 'model_name': 'Gemma2-9b-It', 'system_fingerprint': 'fp_10c08bf97d', 'finish_reason': 'stop', 'logprobs': None}, id='run-abc66191-a2e5-446f-8367-769c77c97eb5-0', usage_metadata={'input_tokens': 21, 'output_tokens': 65, 'total_tokens': 86})"
      ]
     },
     "execution_count": 5,
     "metadata": {},
     "output_type": "execute_result"
    }
   ],
   "source": [
    "from langchain_core.messages import HumanMessage, SystemMessage,AIMessage\n",
    "model.invoke([HumanMessage(content=\"Hi I am Aniket and I am a data scientist\")])"
   ]
  },
  {
   "cell_type": "code",
   "execution_count": 17,
   "metadata": {},
   "outputs": [
    {
     "data": {
      "text/plain": [
       "AIMessage(content=\"You told me your name is Aniket, and that you are a data scientist!  \\n\\nIs there anything else you'd like to tell me about yourself or your work? I'm eager to learn more. 😄  \\n\", additional_kwargs={}, response_metadata={'token_usage': {'completion_tokens': 50, 'prompt_tokens': 100, 'total_tokens': 150, 'completion_time': 0.090909091, 'prompt_time': 0.002572932, 'queue_time': 0.004007168, 'total_time': 0.093482023}, 'model_name': 'Gemma2-9b-It', 'system_fingerprint': 'fp_10c08bf97d', 'finish_reason': 'stop', 'logprobs': None}, id='run-90bedbeb-1d48-456c-b258-7dbae8e5f14c-0', usage_metadata={'input_tokens': 100, 'output_tokens': 50, 'total_tokens': 150})"
      ]
     },
     "execution_count": 17,
     "metadata": {},
     "output_type": "execute_result"
    }
   ],
   "source": [
    "model.invoke(\n",
    "    [\n",
    "        HumanMessage(content=\"hI I AM A DATA SCIENTIST\"),\n",
    "        AIMessage(content=\"Hi Aniket, it's nice to meet you!\\n\\nThat's great! Data science is a fascinating field. What kind of work do you do as a data scientist? \\n\\nAre you working on any interesting projects right now? I'd love to hear more about your work.\\n\"),\n",
    "        HumanMessage(content=\"hey what is my name and what do I do?\")\n",
    "\n",
    "    ]\n",
    ")"
   ]
  },
  {
   "cell_type": "code",
   "execution_count": 36,
   "metadata": {},
   "outputs": [],
   "source": [
    "# Add message history to make it stateful\n",
    "from langchain_community.chat_message_histories import ChatMessageHistory\n",
    "from langchain_core.chat_history import BaseChatMessageHistory\n",
    "from langchain_core.runnables.history import RunnableWithMessageHistory\n",
    "\n",
    "store = {}\n",
    "def get_session_history(session_id:str)->BaseChatMessageHistory:\n",
    "    if session_id not in store:\n",
    "        store[session_id] = ChatMessageHistory()\n",
    "\n",
    "    return store[session_id]\n",
    "\n",
    "with_message_history = RunnableWithMessageHistory(model,get_session_history)"
   ]
  },
  {
   "cell_type": "code",
   "execution_count": 37,
   "metadata": {},
   "outputs": [],
   "source": [
    "config ={\"session_id\":\"chat1\"}"
   ]
  },
  {
   "cell_type": "code",
   "execution_count": 40,
   "metadata": {},
   "outputs": [
    {
     "data": {
      "text/plain": [
       "AIMessage(content=\"Hi Aniket, it's nice to meet you!\\n\\nThat's great you're a data scientist. What kind of work do you do? \\n\\nI'm always interested in learning more about how people use data to solve problems and make insights.\\n\", additional_kwargs={}, response_metadata={'token_usage': {'completion_tokens': 58, 'prompt_tokens': 20, 'total_tokens': 78, 'completion_time': 0.105454545, 'prompt_time': 9.656e-05, 'queue_time': 0.003416929, 'total_time': 0.105551105}, 'model_name': 'Gemma2-9b-It', 'system_fingerprint': 'fp_10c08bf97d', 'finish_reason': 'stop', 'logprobs': None}, id='run-63cd4338-34d9-4b32-af68-5b3885e4db6c-0', usage_metadata={'input_tokens': 20, 'output_tokens': 58, 'total_tokens': 78})"
      ]
     },
     "execution_count": 40,
     "metadata": {},
     "output_type": "execute_result"
    }
   ],
   "source": [
    "with_message_history.invoke(input=\n",
    "    [HumanMessage(content=\"Hi I am Aniket an I am data scientist\")],\n",
    "    config=config\n",
    ")"
   ]
  },
  {
   "cell_type": "markdown",
   "metadata": {},
   "source": [
    "with prompt template"
   ]
  },
  {
   "cell_type": "code",
   "execution_count": 47,
   "metadata": {},
   "outputs": [],
   "source": [
    "from langchain_core.prompts import ChatPromptTemplate,MessagesPlaceholder\n",
    "\n",
    "prompt = ChatPromptTemplate.from_messages(\n",
    "    [\n",
    "        (\"system\",\"you are an assistant. Answer all the questions in {language}\"),\n",
    "        MessagesPlaceholder(variable_name=\"messages\")\n",
    "    ]\n",
    ")\n",
    "chain = prompt|model"
   ]
  },
  {
   "cell_type": "code",
   "execution_count": 48,
   "metadata": {},
   "outputs": [
    {
     "data": {
      "text/plain": [
       "AIMessage(content='Namaste Aniket!  😊 \\n\\nआपके सवालों के जवाब देने के लिए मैं तैयार हूँ।  आप क्या जानना चाहते हैं? \\n', additional_kwargs={}, response_metadata={'token_usage': {'completion_tokens': 40, 'prompt_tokens': 26, 'total_tokens': 66, 'completion_time': 0.072727273, 'prompt_time': 0.000146069, 'queue_time': 0.00269887, 'total_time': 0.072873342}, 'model_name': 'Gemma2-9b-It', 'system_fingerprint': 'fp_10c08bf97d', 'finish_reason': 'stop', 'logprobs': None}, id='run-9bb004bc-1923-490d-9a70-e89a83dcb3f6-0', usage_metadata={'input_tokens': 26, 'output_tokens': 40, 'total_tokens': 66})"
      ]
     },
     "execution_count": 48,
     "metadata": {},
     "output_type": "execute_result"
    }
   ],
   "source": [
    "chain.invoke({'messages':[HumanMessage(content=\"Hi I am Aniket\")],\n",
    "              'language':'Hindi'\n",
    "              })\n"
   ]
  },
  {
   "cell_type": "code",
   "execution_count": 49,
   "metadata": {},
   "outputs": [],
   "source": [
    "with_message_history = RunnableWithMessageHistory(chain,\n",
    "                                                  get_session_history,\n",
    "                                                  input_messages_key='messages')"
   ]
  },
  {
   "cell_type": "code",
   "execution_count": 50,
   "metadata": {},
   "outputs": [
    {
     "data": {
      "text/plain": [
       "'नमस्ते अनिकेत! \\n\\nमुझे आपकी मदद करने में खुशी हो रही है। आप कोई भी प्रश्न पूछ सकते हैं, मैं अपनी पूरी कोशिश करूँगा कि सही उत्तर दे सकूँ। 😊 \\n\\n'"
      ]
     },
     "execution_count": 50,
     "metadata": {},
     "output_type": "execute_result"
    }
   ],
   "source": [
    "config = {\"configurable\":{'session_id':\"chat4\"}}\n",
    "response = with_message_history.invoke(\n",
    "{'messages': HumanMessage(content=\"Hi I am Aniket\"),'language':'Hindi'},\n",
    "config = config\n",
    ")\n",
    "response.content"
   ]
  },
  {
   "cell_type": "markdown",
   "metadata": {},
   "source": [
    "Manage conversation history"
   ]
  },
  {
   "cell_type": "code",
   "execution_count": 6,
   "metadata": {},
   "outputs": [],
   "source": [
    "from langchain_core.messages import SystemMessage,trim_messages\n",
    "\n",
    "trimmer = trim_messages(\n",
    "    max_tokens = 70,\n",
    "    strategy='last',\n",
    "    token_counter=model,\n",
    "    include_system = True,\n",
    "    allow_partials=False,\n",
    "    start_on = \"human\"\n",
    ")"
   ]
  },
  {
   "cell_type": "code",
   "execution_count": null,
   "metadata": {},
   "outputs": [],
   "source": []
  }
 ],
 "metadata": {
  "kernelspec": {
   "display_name": "genai_env",
   "language": "python",
   "name": "python3"
  },
  "language_info": {
   "codemirror_mode": {
    "name": "ipython",
    "version": 3
   },
   "file_extension": ".py",
   "mimetype": "text/x-python",
   "name": "python",
   "nbconvert_exporter": "python",
   "pygments_lexer": "ipython3",
   "version": "3.10.9"
  }
 },
 "nbformat": 4,
 "nbformat_minor": 2
}
