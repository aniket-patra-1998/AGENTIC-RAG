{
 "cells": [
  {
   "cell_type": "code",
   "execution_count": null,
   "metadata": {},
   "outputs": [
    {
     "name": "stdout",
     "output_type": "stream",
     "text": [
      "The autoreload extension is already loaded. To reload it, use:\n",
      "  %reload_ext autoreload\n"
     ]
    },
    {
     "name": "stderr",
     "output_type": "stream",
     "text": [
      "INFO:retriever:Loaded 1 documents.\n",
      "INFO:retriever:Split documents into 73 chunks.\n",
      "INFO:retriever:FAISS index already exists. Loading existing index...\n",
      "INFO:retriever:Loaded existing FAISS index!\n",
      "INFO:retriever:Retriever created successfully\n",
      "INFO:query_grader:Created a query grader successfully.\n",
      "INFO:qa_rag:created a rephraser chain\n",
      "INFO:tools:Created a tavily web search tool successfully.\n",
      "INFO:qa_rag:created a prompt template for qa rag\n",
      "INFO:qa_rag:created a qa rag chain\n"
     ]
    }
   ],
   "source": [
    "\n",
    "from retriever import Retriever\n",
    "from query_grader import Grader\n",
    "from qa_rag import RAG\n",
    "from tools import Tools\n",
    "from graphstate import Graph\n",
    "%load_ext autoreload\n",
    "%autoreload 2\n",
    "\n",
    "similarity_threshold_retriver = Retriever().create_retriever()\n",
    "doc_grader = Grader().create_grader()\n",
    "question_rewriter = RAG().rephraser()\n",
    "web_tool = Tools().tavily_search_tool()\n",
    "wiki_tool = Tools().wiki_search_tool()\n",
    "arxiv_tool = Tools().arxiv_search_tool()\n",
    "qa_rag_chain = RAG().create_rag_chain()\n",
    "\n",
    "graph = Graph(similarity_threshold_retriever=similarity_threshold_retriver,\n",
    "              doc_grader=doc_grader,\n",
    "              question_rewriter=question_rewriter,\n",
    "              web_search_tool=web_tool,\n",
    "              qa_rag_chain=qa_rag_chain).build_graph()\n"
   ]
  },
  {
   "cell_type": "code",
   "execution_count": 115,
   "metadata": {},
   "outputs": [
    {
     "data": {
      "image/png": "[encoded data removed]",
      "text/plain": [
       "<langgraph.graph.state.CompiledStateGraph object at 0x0000024E849D8370>"
      ]
     },
     "execution_count": 115,
     "metadata": {},
     "output_type": "execute_result"
    }
   ],
   "source": [
    "graph"
   ]
  },
  {
   "cell_type": "code",
   "execution_count": 121,
   "metadata": {},
   "outputs": [
    {
     "name": "stderr",
     "output_type": "stream",
     "text": [
      "INFO:httpx:HTTP Request: POST https://api.groq.com/openai/v1/chat/completions \"HTTP/1.1 200 OK\"\n",
      "INFO:graphstate:Document is relevant\n",
      "INFO:httpx:HTTP Request: POST https://api.groq.com/openai/v1/chat/completions \"HTTP/1.1 200 OK\"\n",
      "INFO:graphstate:Document is relevant\n",
      "INFO:httpx:HTTP Request: POST https://api.groq.com/openai/v1/chat/completions \"HTTP/1.1 200 OK\"\n",
      "INFO:graphstate:Document is irrelevant\n",
      "INFO:graphstate:Some or all documents are irrelevant\n",
      "INFO:graphstate:Rephrasing the query\n",
      "INFO:httpx:HTTP Request: POST https://api.groq.com/openai/v1/chat/completions \"HTTP/1.1 200 OK\"\n",
      "INFO:graphstate:Rephrased query: What is the surgical procedure known as hip arthoplasty? \n",
      " \n",
      "INFO:graphstate:Performing web search\n",
      "INFO:graphstate:Generating Answer\n",
      "INFO:httpx:HTTP Request: POST https://api.groq.com/openai/v1/chat/completions \"HTTP/1.1 200 OK\"\n"
     ]
    }
   ],
   "source": [
    "query= \"what is hip arthoplasty?\"\n",
    "response = graph.invoke({'question':query})\n"
   ]
  },
  {
   "cell_type": "code",
   "execution_count": 122,
   "metadata": {},
   "outputs": [
    {
     "data": {
      "text/markdown": [
       "Hip arthoplasty is a surgical procedure to address hip pain.  \n",
       "\n",
       "The surgery replaces parts of the hip joint with artificial implants.  \n",
       "\n",
       "The hip joint consists of a ball (at the top of the femur, also known as the thigh bone) and a socket (in the pelvis, also known as the hip bone). \n"
      ],
      "text/plain": [
       "<IPython.core.display.Markdown object>"
      ]
     },
     "metadata": {},
     "output_type": "display_data"
    }
   ],
   "source": [
    "from IPython.display import Markdown, display\n",
    "display(Markdown(response['generation']))"
   ]
  },
  {
   "cell_type": "code",
   "execution_count": 74,
   "metadata": {},
   "outputs": [
    {
     "name": "stderr",
     "output_type": "stream",
     "text": [
      "INFO:httpx:HTTP Request: POST https://api.groq.com/openai/v1/chat/completions \"HTTP/1.1 200 OK\"\n"
     ]
    },
    {
     "data": {
      "text/plain": [
       "'The provided text focuses on hip replacement surgery and does not offer a definition of a hip injury. \\n\\nI cannot answer your question based on the given context. \\n'"
      ]
     },
     "execution_count": 74,
     "metadata": {},
     "output_type": "execute_result"
    }
   ],
   "source": [
    "qa_rag_chain.invoke(\n",
    "    {\"context\":docs,'question':query}\n",
    ")\n"
   ]
  },
  {
   "cell_type": "code",
   "execution_count": 86,
   "metadata": {},
   "outputs": [
    {
     "name": "stderr",
     "output_type": "stream",
     "text": [
      "INFO:httpx:HTTP Request: POST https://api.groq.com/openai/v1/chat/completions \"HTTP/1.1 200 OK\"\n"
     ]
    },
    {
     "data": {
      "text/plain": [
       "'Who won the UEFA Champions League in 2024? \\n'"
      ]
     },
     "execution_count": 86,
     "metadata": {},
     "output_type": "execute_result"
    }
   ],
   "source": [
    "query = \"who won chanpions league in 2024\"\n",
    "question_rewriter.invoke({'question': query})"
   ]
  },
  {
   "cell_type": "code",
   "execution_count": 94,
   "metadata": {},
   "outputs": [
    {
     "name": "stderr",
     "output_type": "stream",
     "text": [
      "INFO:primp:response: https://duckduckgo.com/?q=who+won+chanpions+league+in+2024 200 19004\n",
      "INFO:primp:response: https://links.duckduckgo.com/d.js?q=who+won+chanpions+league+in+2024&kl=wt-wt&l=wt-wt&p=&s=0&df=y&vqd=4-238515561572872904857831823674767543175&bing_market=wt-WT&ex=-1 200 12420\n"
     ]
    },
    {
     "data": {
      "text/plain": [
       "\"snippet: Real Madrid toiled for the first hour of the 2024 UEFA Champions League final against Borussia Dortmund before goals from Dani Carvajal and Vinicius Junior sealed victory., title: Who won Champions League final 2024? How Carvajal, Vinicius Jr. sealed ..., link: https://www.sportingnews.com/us/soccer/news/who-won-champions-league-final-2024-real-madrid-borussia-dortmund/c2aa2d0b8666ccb0125474be, snippet: Real Madrid toiled for the first hour of the 2024 UEFA Champions League final against Borussia Dortmund before goals from Dani Carvajal and Vinicius Junior sealed victory., title: Who won Champions League final 2024? How Carvajal ... - Sporting News, link: https://www.sportingnews.com/uk/football/news/who-won-champions-league-final-2024-real-madrid-borussia-dortmund/c2aa2d0b8666ccb0125474be, snippet: Dani Carvajal and Vinícius Júnior scored the goals as Real Madrid overcame a spirited Borussia Dortmund 2-0 to win the 2024 UEFA Champions League final at Wembley Stadium. Key moments ., title: Real Madrid win Champions League: Carvajal and Vinícius Júnior see off ..., link: https://www.uefa.com/uefachampionsleague/news/028e-1b07e18d875a-ba78e4b9d9fc-1000--real-madrid-win-champions-league-carvajal-and-vinicius-jun/, snippet: With two goals in the final 20 minutes, Real Madrid defeated Borussia Dortmund 2-0 in the 2024 UEFA Champions League final on Saturday, extending the club's record with a 15th European title., title: Champions League final highlights: Real Madrid beats Dortmund to win ..., link: https://www.usatoday.com/story/sports/soccer/2024/06/01/real-madrid-dortmund-champions-league-final-live-score-highlights/73916662007/\""
      ]
     },
     "execution_count": 94,
     "metadata": {},
     "output_type": "execute_result"
    }
   ],
   "source": [
    "docs = web_tool.invoke({'query': query})\n",
    "docs"
   ]
  },
  {
   "cell_type": "code",
   "execution_count": null,
   "metadata": {},
   "outputs": [],
   "source": []
  }
 ],
 "metadata": {
  "kernelspec": {
   "display_name": "genai_env",
   "language": "python",
   "name": "python3"
  },
  "language_info": {
   "codemirror_mode": {
    "name": "ipython",
    "version": 3
   },
   "file_extension": ".py",
   "mimetype": "text/x-python",
   "name": "python",
   "nbconvert_exporter": "python",
   "pygments_lexer": "ipython3",
   "version": "3.10.9"
  }
 },
 "nbformat": 4,
 "nbformat_minor": 2
}
